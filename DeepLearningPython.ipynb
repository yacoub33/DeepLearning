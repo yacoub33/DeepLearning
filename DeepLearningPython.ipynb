{
  "nbformat": 4,
  "nbformat_minor": 0,
  "metadata": {
    "colab": {
      "name": "DeepLearningPython.ipynb",
      "provenance": [],
      "authorship_tag": "ABX9TyPTtU6DXQFXk5mYUqO/juBa",
      "include_colab_link": true
    },
    "kernelspec": {
      "name": "python3",
      "display_name": "Python 3"
    },
    "language_info": {
      "name": "python"
    }
  },
  "cells": [
    {
      "cell_type": "markdown",
      "metadata": {
        "id": "view-in-github",
        "colab_type": "text"
      },
      "source": [
        "<a href=\"https://colab.research.google.com/github/yacoub33/DeepLearning/blob/main/DeepLearningPython.ipynb\" target=\"_parent\"><img src=\"https://colab.research.google.com/assets/colab-badge.svg\" alt=\"Open In Colab\"/></a>"
      ]
    },
    {
      "cell_type": "code",
      "source": [
        "import tensorflow as tf\n",
        "import matplotlib.pyplot as plt\n",
        "import numpy as np"
      ],
      "metadata": {
        "id": "pqyEpPvH-zV8"
      },
      "execution_count": null,
      "outputs": []
    },
    {
      "cell_type": "markdown",
      "source": [
        "## **Model**"
      ],
      "metadata": {
        "id": "DD61UQZF_BAF"
      }
    },
    {
      "cell_type": "code",
      "execution_count": null,
      "metadata": {
        "colab": {
          "base_uri": "https://localhost:8080/"
        },
        "id": "Rv3xxOrr3uic",
        "outputId": "870879c4-e231-4a13-f21e-b264a4446a7d"
      },
      "outputs": [
        {
          "output_type": "stream",
          "name": "stdout",
          "text": [
            "Downloading data from https://storage.googleapis.com/tensorflow/tf-keras-datasets/mnist.npz\n",
            "11493376/11490434 [==============================] - 0s 0us/step\n",
            "11501568/11490434 [==============================] - 0s 0us/step\n",
            "Epoch 1/3\n",
            "1875/1875 [==============================] - 9s 4ms/step - loss: 0.2630 - accuracy: 0.9229\n",
            "Epoch 2/3\n",
            "1875/1875 [==============================] - 5s 3ms/step - loss: 0.1097 - accuracy: 0.9664\n",
            "Epoch 3/3\n",
            "1875/1875 [==============================] - 5s 3ms/step - loss: 0.0743 - accuracy: 0.9770\n"
          ]
        },
        {
          "output_type": "execute_result",
          "data": {
            "text/plain": [
              "<keras.callbacks.History at 0x7f17f1876490>"
            ]
          },
          "metadata": {},
          "execution_count": 2
        }
      ],
      "source": [
        "mnist = tf.keras.datasets.mnist\n",
        "\n",
        "(x_train, y_train), (x_test, y_test) = mnist.load_data()\n",
        "\n",
        "x_train = tf.keras.utils.normalize(x_train, axis=1)\n",
        "x_test = tf.keras.utils.normalize(x_train, axis=1)\n",
        "\n",
        "model = tf.keras.models.Sequential()\n",
        "model.add(tf.keras.layers.Flatten())\n",
        "model.add(tf.keras.layers.Dense(128, activation=tf.nn.relu))\n",
        "model.add(tf.keras.layers.Dense(128, activation=tf.nn.relu))\n",
        "model.add(tf.keras.layers.Dense(10, activation=tf.nn.softmax))\n",
        "\n",
        "model.compile(optimizer='adam',\n",
        "              loss='sparse_categorical_crossentropy',\n",
        "              metrics=['accuracy'])\n",
        "\n",
        "model.fit(x_train, y_train, epochs=3)"
      ]
    },
    {
      "cell_type": "code",
      "source": [
        "plt.imshow(x_train[0]) #, cmap = plt.cm.binary\n",
        "plt.show()\n",
        "# print(x_train[0])"
      ],
      "metadata": {
        "colab": {
          "base_uri": "https://localhost:8080/",
          "height": 265
        },
        "id": "xAkCHUWy5_A_",
        "outputId": "e858fb20-ea62-4547-894e-85698254499f"
      },
      "execution_count": null,
      "outputs": [
        {
          "output_type": "display_data",
          "data": {
            "text/plain": [
              "<Figure size 432x288 with 1 Axes>"
            ],
            "image/png": "[encoded data removed]"
          },
          "metadata": {
            "needs_background": "light"
          }
        }
      ]
    },
    {
      "cell_type": "code",
      "source": [
        "model.save('num_reader')"
      ],
      "metadata": {
        "colab": {
          "base_uri": "https://localhost:8080/"
        },
        "id": "h1s4j7yJ6gDJ",
        "outputId": "07bb6b95-09e1-4a90-d29d-becc0ce3ad0b"
      },
      "execution_count": null,
      "outputs": [
        {
          "output_type": "stream",
          "name": "stdout",
          "text": [
            "INFO:tensorflow:Assets written to: num_reader/assets\n"
          ]
        }
      ]
    },
    {
      "cell_type": "code",
      "source": [
        "new_model = tf.keras.models.load_model('num_reader')"
      ],
      "metadata": {
        "id": "eN6sFfj_9cuZ"
      },
      "execution_count": null,
      "outputs": []
    },
    {
      "cell_type": "code",
      "source": [
        "predictions = new_model.predict([x_test])"
      ],
      "metadata": {
        "id": "sOACKWIB9jwD"
      },
      "execution_count": null,
      "outputs": []
    },
    {
      "cell_type": "code",
      "source": [
        "print(predictions)"
      ],
      "metadata": {
        "colab": {
          "base_uri": "https://localhost:8080/"
        },
        "id": "Q3SKQbzE9pPc",
        "outputId": "6644d3e2-5297-4366-cb25-d91d5f39d11b"
      },
      "execution_count": null,
      "outputs": [
        {
          "output_type": "stream",
          "name": "stdout",
          "text": [
            "[[8.34977296e-11 7.38582742e-08 4.11437506e-09 ... 1.18977404e-07\n",
            "  3.43340044e-11 3.73179141e-08]\n",
            " [9.99989986e-01 1.01619122e-07 7.19137597e-06 ... 2.04946872e-07\n",
            "  1.26525119e-08 1.08622942e-06]\n",
            " [9.72717196e-09 1.35555863e-03 2.63262237e-03 ... 2.55100109e-04\n",
            "  5.31765545e-06 2.08754773e-06]\n",
            " ...\n",
            " [1.13443916e-11 1.85752025e-09 2.84149895e-12 ... 2.11715381e-10\n",
            "  2.91942603e-09 2.88824942e-09]\n",
            " [1.64592711e-04 8.27445660e-07 4.27955183e-06 ... 5.46885246e-07\n",
            "  1.12322832e-05 4.40152483e-08]\n",
            " [2.62173717e-06 3.32854420e-08 9.76568663e-06 ... 7.05466789e-07\n",
            "  9.99965310e-01 1.42262224e-05]]\n"
          ]
        }
      ]
    },
    {
      "cell_type": "markdown",
      "source": [
        "## **Predictions**"
      ],
      "metadata": {
        "id": "lIC41rMv_5-M"
      }
    },
    {
      "cell_type": "markdown",
      "source": [
        "### Prediction #**1**"
      ],
      "metadata": {
        "id": "M2fbu3dP-n7X"
      }
    },
    {
      "cell_type": "code",
      "source": [
        "print(np.argmax(predictions[0]))"
      ],
      "metadata": {
        "colab": {
          "base_uri": "https://localhost:8080/"
        },
        "id": "xWz6hkso90f1",
        "outputId": "98721ca6-3a20-4cab-bb67-1a68f8887d47"
      },
      "execution_count": null,
      "outputs": [
        {
          "output_type": "stream",
          "name": "stdout",
          "text": [
            "5\n"
          ]
        }
      ]
    },
    {
      "cell_type": "code",
      "source": [
        "plt.imshow(x_test[0])\n",
        "plt.show()"
      ],
      "metadata": {
        "colab": {
          "base_uri": "https://localhost:8080/",
          "height": 265
        },
        "id": "sL5X3-2h95YX",
        "outputId": "1482bc4e-0cbf-4839-dd93-e830ff268302"
      },
      "execution_count": null,
      "outputs": [
        {
          "output_type": "display_data",
          "data": {
            "text/plain": [
              "<Figure size 432x288 with 1 Axes>"
            ],
            "image/png": "[encoded data removed]"
          },
          "metadata": {
            "needs_background": "light"
          }
        }
      ]
    },
    {
      "cell_type": "markdown",
      "source": [
        "### Prediction #**2**"
      ],
      "metadata": {
        "id": "XZ8Br_Lw-huJ"
      }
    },
    {
      "cell_type": "code",
      "source": [
        "print(np.argmax(predictions[1]))"
      ],
      "metadata": {
        "colab": {
          "base_uri": "https://localhost:8080/"
        },
        "id": "s5MO2M0d9_eQ",
        "outputId": "3b4af4fd-0d81-4072-834d-ae9d0fdd623c"
      },
      "execution_count": null,
      "outputs": [
        {
          "output_type": "stream",
          "name": "stdout",
          "text": [
            "0\n"
          ]
        }
      ]
    },
    {
      "cell_type": "code",
      "source": [
        "plt.imshow(x_test[1])\n",
        "plt.show()"
      ],
      "metadata": {
        "colab": {
          "base_uri": "https://localhost:8080/",
          "height": 265
        },
        "id": "wJQezFhl-E_C",
        "outputId": "11df0a59-0fcc-4542-edc1-f5b77b5653c5"
      },
      "execution_count": null,
      "outputs": [
        {
          "output_type": "display_data",
          "data": {
            "text/plain": [
              "<Figure size 432x288 with 1 Axes>"
            ],
            "image/png": "[encoded data removed]"
          },
          "metadata": {
            "needs_background": "light"
          }
        }
      ]
    },
    {
      "cell_type": "markdown",
      "source": [
        "### Prediction #***3***"
      ],
      "metadata": {
        "id": "3NVzdghU-Twd"
      }
    },
    {
      "cell_type": "code",
      "source": [
        "print(np.argmax(predictions[2]))"
      ],
      "metadata": {
        "colab": {
          "base_uri": "https://localhost:8080/"
        },
        "id": "Aw3b9dQc-OcR",
        "outputId": "05dd173c-aa49-4b7b-f712-0819fb488b86"
      },
      "execution_count": null,
      "outputs": [
        {
          "output_type": "stream",
          "name": "stdout",
          "text": [
            "4\n"
          ]
        }
      ]
    },
    {
      "cell_type": "code",
      "source": [
        "plt.imshow(x_test[2])\n",
        "plt.show()"
      ],
      "metadata": {
        "colab": {
          "base_uri": "https://localhost:8080/",
          "height": 265
        },
        "id": "-q8-l1Rq-RXq",
        "outputId": "7be8ac1f-c329-4da0-8b06-e721b0f67b2f"
      },
      "execution_count": null,
      "outputs": [
        {
          "output_type": "display_data",
          "data": {
            "text/plain": [
              "<Figure size 432x288 with 1 Axes>"
            ],
            "image/png": "[encoded data removed]"
          },
          "metadata": {
            "needs_background": "light"
          }
        }
      ]
    }
  ]
}